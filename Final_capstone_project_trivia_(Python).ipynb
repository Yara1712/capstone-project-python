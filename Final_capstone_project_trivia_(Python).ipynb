{
  "nbformat": 4,
  "nbformat_minor": 0,
  "metadata": {
    "colab": {
      "name": "Final capstone project trivia (Python)",
      "provenance": []
    },
    "kernelspec": {
      "name": "python3",
      "display_name": "Python 3"
    }
  },
  "cells": [
    {
      "cell_type": "code",
      "metadata": {
        "id": "t1R3o9lFlQns",
        "colab_type": "code",
        "colab": {
          "base_uri": "https://localhost:8080/",
          "height": 394
        },
        "outputId": "e1bd94a1-a529-4032-bdba-80b6c381d840"
      },
      "source": [
        "print (\"hi welcome to the first edition of the  SO YOU THINK YOU CAN TRIVIA (animals edition) ?\")\n",
        "print(\" im your host Yara iskandarani :)\")\n",
        "print(\" so the rules of this game are simple \")\n",
        "print(\"there will be 5 questions to answer and each one is equivalent to 100 points you and your freinds take turns filling out the answers and se who gets the most points , and obviously the one with the most points win so lets begin\")\n",
        "a=0\n",
        "b=(input(\"Enter your name to begin : \"))\n",
        "print (\"lets get started\",b)\n",
        "print (\"topic : animals\")\n",
        "c=(input(\"what is the global population of dogs (please answer in letters) ? \")) \n",
        "if (c==\"nine hundred million\"):\n",
        "  print (\"correct ! next question\")\n",
        "  a=a+100\n",
        "else :\n",
        "  print (\"WRONG ! sorry \")\n",
        "\n",
        "\n",
        "y=(input(\"true or false , a donkey is actually able to see all four of its feet \"))\n",
        "if (y==\"true\" or y==\"True\"):\n",
        "  print (\"correct ! next question\")\n",
        "  a=a+100\n",
        "else :\n",
        "  print (\"WRONG ! sorry \")\n",
        "\n",
        "\n",
        "j=(input(\"What is the fastest animal in the world? \"))\n",
        "if (j==\"cheetah\"or j==\"Cheetah\"):\n",
        "  print (\"correct ! next question\")\n",
        "  a=a+100\n",
        "else :\n",
        "  print (\"WRONG ! sorry \")\n",
        "\n",
        "\n",
        "s=(input(\"true or false , fish have lungs \"))\n",
        "if (s==\"false\" or s== \"False\"):\n",
        "  print (\"correct ! next question\")\n",
        "  a=a+100\n",
        "else :\n",
        "  print (\"WRONG ! sorry \")\n",
        "\n",
        "p=(input(\"what bird can fly backwards ?\"))\n",
        "if (p==\"hummingbird\" or p==\"Hummingbird\"):\n",
        "  print (\"correct ! next question\")\n",
        "  a=a+100\n",
        "else :\n",
        "  print (\"WRONG ! sorry \")\n",
        "\n",
        "\n",
        "print (\"congrats\",b ,\"your final score is\",a)\n",
        "print (\" i hope you enjoyed playing and had some fun !\")\n",
        "print (\"be sure to play again some time\" ,b )\n",
        "print (\" thank you for playing SO YOU THINK YOU CAN TRIVIA (animal edition) ? \")"
      ],
      "execution_count": 2,
      "outputs": [
        {
          "output_type": "stream",
          "text": [
            "hi welcome to the first edition of the  SO YOU THINK YOU CAN TRIVIA (animals edition) ?\n",
            " im your host Yara iskandarani :)\n",
            " so the rules of this game are simple \n",
            "there will be 5 questions to answer and each one is equivalent to 100 points you and your freinds take turns filling out the answers and se who gets the most points , and obviously the one with the most points win so lets begin\n",
            "Enter your name to begin : yara\n",
            "lets get started yara\n",
            "topic : animals\n",
            "what is the global population of dogs (please answer in letters) ? fvjs\n",
            "WRONG ! sorry \n",
            "true or false , a donkey is actually able to see all four of its feet true\n",
            "correct ! next question\n",
            "What is the fastest animal in the world? cheetah\n",
            "correct ! next question\n",
            "true or false , fish have lungs false\n",
            "correct ! next question\n",
            "what bird can fly backwards ?bird\n",
            "WRONG ! sorry \n",
            "congrats yara your final score is 300\n",
            " i hope you enjoyed playing and had some fun !\n",
            "be sure to play again some time yara\n",
            " thank you for playing SO YOU THINK YOU CAN TRIVIA (animal edition) ? \n"
          ],
          "name": "stdout"
        }
      ]
    },
    {
      "cell_type": "code",
      "metadata": {
        "id": "xMe2Iq_M23cR",
        "colab_type": "code",
        "colab": {}
      },
      "source": [
        ""
      ],
      "execution_count": null,
      "outputs": []
    }
  ]
}